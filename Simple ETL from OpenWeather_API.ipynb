{
  "nbformat": 4,
  "nbformat_minor": 0,
  "metadata": {
    "colab": {
      "provenance": [],
      "include_colab_link": true
    },
    "kernelspec": {
      "name": "python3",
      "display_name": "Python 3"
    },
    "language_info": {
      "name": "python"
    }
  },
  "cells": [
    {
      "cell_type": "markdown",
      "metadata": {
        "id": "view-in-github",
        "colab_type": "text"
      },
      "source": [
        "<a href=\"https://colab.research.google.com/github/HananMoAlnakhal/DataWareHouse_Learning/blob/main/Simple%20ETL%20from%20OpenWeather_API.ipynb\" target=\"_parent\"><img src=\"https://colab.research.google.com/assets/colab-badge.svg\" alt=\"Open In Colab\"/></a>"
      ]
    },
    {
      "cell_type": "markdown",
      "source": [
        "select a public API that provides open data of your choice.--->weathwr Data\n",
        "\n",
        "You will then integrate this API into your initial pipelines.\n",
        "\n",
        "The next step in this HW is checking the format and schema of the source data and subsequently -->json\n",
        "\n",
        "conducting a table-based analysis of it."
      ],
      "metadata": {
        "id": "6RHrWTKqUdOw"
      }
    },
    {
      "cell_type": "code",
      "source": [],
      "metadata": {
        "id": "nH5KfS0eX9sn"
      },
      "execution_count": null,
      "outputs": []
    },
    {
      "cell_type": "markdown",
      "source": [
        "# Extract\n",
        "---"
      ],
      "metadata": {
        "id": "aD9C38I6Tgam"
      }
    },
    {
      "cell_type": "code",
      "source": [
        "import requests\n",
        "import json\n",
        "\n",
        "# API key from OpenWeather\n",
        "\n",
        "API_KEY = '718db35187e1f1aa123e0a793d24c34d'\n",
        "City=\"Gaza\"\n",
        "url = f\"http://api.openweathermap.org/data/2.5/weather?q={City}&appid={API_KEY}&units=metric\"\n",
        "original=requests.get(url)\n",
        "# Make a request to the API\n",
        "response = requests.get(url).json()\n",
        "\n",
        "# Parse the JSON response\n",
        "Gaza_weather = response\n",
        "\n",
        "response\n"
      ],
      "metadata": {
        "colab": {
          "base_uri": "https://localhost:8080/"
        },
        "id": "2-v4ZahVI88O",
        "outputId": "88aa465d-0c60-435a-c5c9-2b8a6db6543c"
      },
      "execution_count": null,
      "outputs": [
        {
          "output_type": "execute_result",
          "data": {
            "text/plain": [
              "{'coord': {'lon': 34.4667, 'lat': 31.5},\n",
              " 'weather': [{'id': 500,\n",
              "   'main': 'Rain',\n",
              "   'description': 'light rain',\n",
              "   'icon': '10n'}],\n",
              " 'base': 'stations',\n",
              " 'main': {'temp': 19.09,\n",
              "  'feels_like': 18.96,\n",
              "  'temp_min': 19.09,\n",
              "  'temp_max': 19.09,\n",
              "  'pressure': 1018,\n",
              "  'humidity': 73,\n",
              "  'sea_level': 1018,\n",
              "  'grnd_level': 1013},\n",
              " 'visibility': 10000,\n",
              " 'wind': {'speed': 1.45, 'deg': 277, 'gust': 1.63},\n",
              " 'rain': {'1h': 0.51},\n",
              " 'clouds': {'all': 10},\n",
              " 'dt': 1732036873,\n",
              " 'sys': {'country': 'PS', 'sunrise': 1731989624, 'sunset': 1732027304},\n",
              " 'timezone': 7200,\n",
              " 'id': 281133,\n",
              " 'name': 'Gaza',\n",
              " 'cod': 200}"
            ]
          },
          "metadata": {},
          "execution_count": 22
        }
      ]
    },
    {
      "cell_type": "markdown",
      "source": [
        "# Transform\n",
        "---"
      ],
      "metadata": {
        "id": "ly3WaxyPToKL"
      }
    },
    {
      "cell_type": "code",
      "source": [
        "import pandas as pd\n",
        "\n",
        "# Extract relevant data from the JSON response\n",
        "data = {\n",
        "    \"City\": Gaza_weather[\"name\"],\n",
        "    \"Country\": Gaza_weather[\"sys\"][\"country\"],\n",
        "    \"Temperature (°C)\": Gaza_weather[\"main\"][\"temp\"],\n",
        "    \"Feels Like (°C)\": Gaza_weather[\"main\"][\"feels_like\"],\n",
        "    \"Min Temperature (°C)\": Gaza_weather[\"main\"][\"temp_min\"],\n",
        "    \"Max Temperature (°C)\": Gaza_weather[\"main\"][\"temp_max\"],\n",
        "    \"Humidity (%)\": Gaza_weather[\"main\"][\"humidity\"],\n",
        "    \"Pressure (hPa)\": Gaza_weather[\"main\"][\"pressure\"],\n",
        "    \"Wind Speed (m/s)\": Gaza_weather[\"wind\"][\"speed\"],\n",
        "    \"Cloud Cover (%)\": Gaza_weather[\"clouds\"][\"all\"]\n",
        "}\n",
        "data"
      ],
      "metadata": {
        "colab": {
          "base_uri": "https://localhost:8080/"
        },
        "id": "rw3LGF4bJAZ9",
        "outputId": "b4219409-e4f3-4695-accb-888a8d4411a7"
      },
      "execution_count": null,
      "outputs": [
        {
          "output_type": "execute_result",
          "data": {
            "text/plain": [
              "{'City': 'Gaza',\n",
              " 'Country': 'PK',\n",
              " 'Temperature (°C)': 26.02,\n",
              " 'Feels Like (°C)': 26.02,\n",
              " 'Min Temperature (°C)': 26.02,\n",
              " 'Max Temperature (°C)': 26.02,\n",
              " 'Humidity (%)': 32,\n",
              " 'Pressure (hPa)': 1015,\n",
              " 'Wind Speed (m/s)': 0.58,\n",
              " 'Cloud Cover (%)': 0}"
            ]
          },
          "metadata": {},
          "execution_count": 18
        }
      ]
    },
    {
      "cell_type": "markdown",
      "source": [
        "# Load\n",
        "___\n"
      ],
      "metadata": {
        "id": "5ZUYYCozUYu3"
      }
    },
    {
      "cell_type": "code",
      "source": [
        "# Convert data into a pandas DataFrame\n",
        "weather_df = pd.DataFrame([data])\n",
        "\n",
        "# Display the table\n",
        "weather_df"
      ],
      "metadata": {
        "colab": {
          "base_uri": "https://localhost:8080/",
          "height": 89
        },
        "id": "4UUz11-qT5zm",
        "outputId": "2222bdbf-8490-4cab-b0b6-8ac816c18764"
      },
      "execution_count": null,
      "outputs": [
        {
          "output_type": "execute_result",
          "data": {
            "text/plain": [
              "   City Country  Temperature (°C)  Feels Like (°C)  Min Temperature (°C)  \\\n",
              "0  Gaza      PS             19.09            18.96                 19.09   \n",
              "\n",
              "   Max Temperature (°C)  Humidity (%)  Pressure (hPa)  Wind Speed (m/s)  \\\n",
              "0                 19.09            73            1018              1.45   \n",
              "\n",
              "   Cloud Cover (%)  \n",
              "0               10  "
            ],
            "text/html": [
              "\n",
              "  <div id=\"df-3143961e-9857-4d58-b825-08361100117a\" class=\"colab-df-container\">\n",
              "    <div>\n",
              "<style scoped>\n",
              "    .dataframe tbody tr th:only-of-type {\n",
              "        vertical-align: middle;\n",
              "    }\n",
              "\n",
              "    .dataframe tbody tr th {\n",
              "        vertical-align: top;\n",
              "    }\n",
              "\n",
              "    .dataframe thead th {\n",
              "        text-align: right;\n",
              "    }\n",
              "</style>\n",
              "<table border=\"1\" class=\"dataframe\">\n",
              "  <thead>\n",
              "    <tr style=\"text-align: right;\">\n",
              "      <th></th>\n",
              "      <th>City</th>\n",
              "      <th>Country</th>\n",
              "      <th>Temperature (°C)</th>\n",
              "      <th>Feels Like (°C)</th>\n",
              "      <th>Min Temperature (°C)</th>\n",
              "      <th>Max Temperature (°C)</th>\n",
              "      <th>Humidity (%)</th>\n",
              "      <th>Pressure (hPa)</th>\n",
              "      <th>Wind Speed (m/s)</th>\n",
              "      <th>Cloud Cover (%)</th>\n",
              "    </tr>\n",
              "  </thead>\n",
              "  <tbody>\n",
              "    <tr>\n",
              "      <th>0</th>\n",
              "      <td>Gaza</td>\n",
              "      <td>PS</td>\n",
              "      <td>19.09</td>\n",
              "      <td>18.96</td>\n",
              "      <td>19.09</td>\n",
              "      <td>19.09</td>\n",
              "      <td>73</td>\n",
              "      <td>1018</td>\n",
              "      <td>1.45</td>\n",
              "      <td>10</td>\n",
              "    </tr>\n",
              "  </tbody>\n",
              "</table>\n",
              "</div>\n",
              "    <div class=\"colab-df-buttons\">\n",
              "\n",
              "  <div class=\"colab-df-container\">\n",
              "    <button class=\"colab-df-convert\" onclick=\"convertToInteractive('df-3143961e-9857-4d58-b825-08361100117a')\"\n",
              "            title=\"Convert this dataframe to an interactive table.\"\n",
              "            style=\"display:none;\">\n",
              "\n",
              "  <svg xmlns=\"http://www.w3.org/2000/svg\" height=\"24px\" viewBox=\"0 -960 960 960\">\n",
              "    <path d=\"M120-120v-720h720v720H120Zm60-500h600v-160H180v160Zm220 220h160v-160H400v160Zm0 220h160v-160H400v160ZM180-400h160v-160H180v160Zm440 0h160v-160H620v160ZM180-180h160v-160H180v160Zm440 0h160v-160H620v160Z\"/>\n",
              "  </svg>\n",
              "    </button>\n",
              "\n",
              "  <style>\n",
              "    .colab-df-container {\n",
              "      display:flex;\n",
              "      gap: 12px;\n",
              "    }\n",
              "\n",
              "    .colab-df-convert {\n",
              "      background-color: #E8F0FE;\n",
              "      border: none;\n",
              "      border-radius: 50%;\n",
              "      cursor: pointer;\n",
              "      display: none;\n",
              "      fill: #1967D2;\n",
              "      height: 32px;\n",
              "      padding: 0 0 0 0;\n",
              "      width: 32px;\n",
              "    }\n",
              "\n",
              "    .colab-df-convert:hover {\n",
              "      background-color: #E2EBFA;\n",
              "      box-shadow: 0px 1px 2px rgba(60, 64, 67, 0.3), 0px 1px 3px 1px rgba(60, 64, 67, 0.15);\n",
              "      fill: #174EA6;\n",
              "    }\n",
              "\n",
              "    .colab-df-buttons div {\n",
              "      margin-bottom: 4px;\n",
              "    }\n",
              "\n",
              "    [theme=dark] .colab-df-convert {\n",
              "      background-color: #3B4455;\n",
              "      fill: #D2E3FC;\n",
              "    }\n",
              "\n",
              "    [theme=dark] .colab-df-convert:hover {\n",
              "      background-color: #434B5C;\n",
              "      box-shadow: 0px 1px 3px 1px rgba(0, 0, 0, 0.15);\n",
              "      filter: drop-shadow(0px 1px 2px rgba(0, 0, 0, 0.3));\n",
              "      fill: #FFFFFF;\n",
              "    }\n",
              "  </style>\n",
              "\n",
              "    <script>\n",
              "      const buttonEl =\n",
              "        document.querySelector('#df-3143961e-9857-4d58-b825-08361100117a button.colab-df-convert');\n",
              "      buttonEl.style.display =\n",
              "        google.colab.kernel.accessAllowed ? 'block' : 'none';\n",
              "\n",
              "      async function convertToInteractive(key) {\n",
              "        const element = document.querySelector('#df-3143961e-9857-4d58-b825-08361100117a');\n",
              "        const dataTable =\n",
              "          await google.colab.kernel.invokeFunction('convertToInteractive',\n",
              "                                                    [key], {});\n",
              "        if (!dataTable) return;\n",
              "\n",
              "        const docLinkHtml = 'Like what you see? Visit the ' +\n",
              "          '<a target=\"_blank\" href=https://colab.research.google.com/notebooks/data_table.ipynb>data table notebook</a>'\n",
              "          + ' to learn more about interactive tables.';\n",
              "        element.innerHTML = '';\n",
              "        dataTable['output_type'] = 'display_data';\n",
              "        await google.colab.output.renderOutput(dataTable, element);\n",
              "        const docLink = document.createElement('div');\n",
              "        docLink.innerHTML = docLinkHtml;\n",
              "        element.appendChild(docLink);\n",
              "      }\n",
              "    </script>\n",
              "  </div>\n",
              "\n",
              "\n",
              "  <div id=\"id_af5a0ec3-3f0b-4648-a3bb-32024d2eb6ab\">\n",
              "    <style>\n",
              "      .colab-df-generate {\n",
              "        background-color: #E8F0FE;\n",
              "        border: none;\n",
              "        border-radius: 50%;\n",
              "        cursor: pointer;\n",
              "        display: none;\n",
              "        fill: #1967D2;\n",
              "        height: 32px;\n",
              "        padding: 0 0 0 0;\n",
              "        width: 32px;\n",
              "      }\n",
              "\n",
              "      .colab-df-generate:hover {\n",
              "        background-color: #E2EBFA;\n",
              "        box-shadow: 0px 1px 2px rgba(60, 64, 67, 0.3), 0px 1px 3px 1px rgba(60, 64, 67, 0.15);\n",
              "        fill: #174EA6;\n",
              "      }\n",
              "\n",
              "      [theme=dark] .colab-df-generate {\n",
              "        background-color: #3B4455;\n",
              "        fill: #D2E3FC;\n",
              "      }\n",
              "\n",
              "      [theme=dark] .colab-df-generate:hover {\n",
              "        background-color: #434B5C;\n",
              "        box-shadow: 0px 1px 3px 1px rgba(0, 0, 0, 0.15);\n",
              "        filter: drop-shadow(0px 1px 2px rgba(0, 0, 0, 0.3));\n",
              "        fill: #FFFFFF;\n",
              "      }\n",
              "    </style>\n",
              "    <button class=\"colab-df-generate\" onclick=\"generateWithVariable('weather_df')\"\n",
              "            title=\"Generate code using this dataframe.\"\n",
              "            style=\"display:none;\">\n",
              "\n",
              "  <svg xmlns=\"http://www.w3.org/2000/svg\" height=\"24px\"viewBox=\"0 0 24 24\"\n",
              "       width=\"24px\">\n",
              "    <path d=\"M7,19H8.4L18.45,9,17,7.55,7,17.6ZM5,21V16.75L18.45,3.32a2,2,0,0,1,2.83,0l1.4,1.43a1.91,1.91,0,0,1,.58,1.4,1.91,1.91,0,0,1-.58,1.4L9.25,21ZM18.45,9,17,7.55Zm-12,3A5.31,5.31,0,0,0,4.9,8.1,5.31,5.31,0,0,0,1,6.5,5.31,5.31,0,0,0,4.9,4.9,5.31,5.31,0,0,0,6.5,1,5.31,5.31,0,0,0,8.1,4.9,5.31,5.31,0,0,0,12,6.5,5.46,5.46,0,0,0,6.5,12Z\"/>\n",
              "  </svg>\n",
              "    </button>\n",
              "    <script>\n",
              "      (() => {\n",
              "      const buttonEl =\n",
              "        document.querySelector('#id_af5a0ec3-3f0b-4648-a3bb-32024d2eb6ab button.colab-df-generate');\n",
              "      buttonEl.style.display =\n",
              "        google.colab.kernel.accessAllowed ? 'block' : 'none';\n",
              "\n",
              "      buttonEl.onclick = () => {\n",
              "        google.colab.notebook.generateWithVariable('weather_df');\n",
              "      }\n",
              "      })();\n",
              "    </script>\n",
              "  </div>\n",
              "\n",
              "    </div>\n",
              "  </div>\n"
            ],
            "application/vnd.google.colaboratory.intrinsic+json": {
              "type": "dataframe",
              "variable_name": "weather_df",
              "summary": "{\n  \"name\": \"weather_df\",\n  \"rows\": 1,\n  \"fields\": [\n    {\n      \"column\": \"City\",\n      \"properties\": {\n        \"dtype\": \"string\",\n        \"num_unique_values\": 1,\n        \"samples\": [\n          \"Gaza\"\n        ],\n        \"semantic_type\": \"\",\n        \"description\": \"\"\n      }\n    },\n    {\n      \"column\": \"Country\",\n      \"properties\": {\n        \"dtype\": \"string\",\n        \"num_unique_values\": 1,\n        \"samples\": [\n          \"PS\"\n        ],\n        \"semantic_type\": \"\",\n        \"description\": \"\"\n      }\n    },\n    {\n      \"column\": \"Temperature (\\u00b0C)\",\n      \"properties\": {\n        \"dtype\": \"number\",\n        \"std\": null,\n        \"min\": 19.09,\n        \"max\": 19.09,\n        \"num_unique_values\": 1,\n        \"samples\": [\n          19.09\n        ],\n        \"semantic_type\": \"\",\n        \"description\": \"\"\n      }\n    },\n    {\n      \"column\": \"Feels Like (\\u00b0C)\",\n      \"properties\": {\n        \"dtype\": \"number\",\n        \"std\": null,\n        \"min\": 18.96,\n        \"max\": 18.96,\n        \"num_unique_values\": 1,\n        \"samples\": [\n          18.96\n        ],\n        \"semantic_type\": \"\",\n        \"description\": \"\"\n      }\n    },\n    {\n      \"column\": \"Min Temperature (\\u00b0C)\",\n      \"properties\": {\n        \"dtype\": \"number\",\n        \"std\": null,\n        \"min\": 19.09,\n        \"max\": 19.09,\n        \"num_unique_values\": 1,\n        \"samples\": [\n          19.09\n        ],\n        \"semantic_type\": \"\",\n        \"description\": \"\"\n      }\n    },\n    {\n      \"column\": \"Max Temperature (\\u00b0C)\",\n      \"properties\": {\n        \"dtype\": \"number\",\n        \"std\": null,\n        \"min\": 19.09,\n        \"max\": 19.09,\n        \"num_unique_values\": 1,\n        \"samples\": [\n          19.09\n        ],\n        \"semantic_type\": \"\",\n        \"description\": \"\"\n      }\n    },\n    {\n      \"column\": \"Humidity (%)\",\n      \"properties\": {\n        \"dtype\": \"number\",\n        \"std\": null,\n        \"min\": 73,\n        \"max\": 73,\n        \"num_unique_values\": 1,\n        \"samples\": [\n          73\n        ],\n        \"semantic_type\": \"\",\n        \"description\": \"\"\n      }\n    },\n    {\n      \"column\": \"Pressure (hPa)\",\n      \"properties\": {\n        \"dtype\": \"number\",\n        \"std\": null,\n        \"min\": 1018,\n        \"max\": 1018,\n        \"num_unique_values\": 1,\n        \"samples\": [\n          1018\n        ],\n        \"semantic_type\": \"\",\n        \"description\": \"\"\n      }\n    },\n    {\n      \"column\": \"Wind Speed (m/s)\",\n      \"properties\": {\n        \"dtype\": \"number\",\n        \"std\": null,\n        \"min\": 1.45,\n        \"max\": 1.45,\n        \"num_unique_values\": 1,\n        \"samples\": [\n          1.45\n        ],\n        \"semantic_type\": \"\",\n        \"description\": \"\"\n      }\n    },\n    {\n      \"column\": \"Cloud Cover (%)\",\n      \"properties\": {\n        \"dtype\": \"number\",\n        \"std\": null,\n        \"min\": 10,\n        \"max\": 10,\n        \"num_unique_values\": 1,\n        \"samples\": [\n          10\n        ],\n        \"semantic_type\": \"\",\n        \"description\": \"\"\n      }\n    }\n  ]\n}"
            }
          },
          "metadata": {},
          "execution_count": 14
        }
      ]
    }
  ]
}